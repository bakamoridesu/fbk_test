{
 "cells": [
  {
   "cell_type": "markdown",
   "metadata": {},
   "source": [
    "Торговый регистр Словакии располагается по ссылке: http://www.orsr.sk/search_osoba.asp?lan=en . \n",
    "Профиль каждой компании имеет ссылку вида: http://www.orsr.sk/vypis.asp?lan=en&ID=154017&SID=2&P=0\n",
    "\n",
    "Задание: Скачайте 50000 профилей любых словацких компаний с этого сайта и вытащите из них всю информацию о людях (поля management, member, partners). В отдельный файл поместите тех, у кого в адресе упоминается Российская Федерация. Файл со всеми людьми и файл с людьми из России поместите в 2 csv файла формата название_компании;имя_человека;адрес_человека "
   ]
  },
  {
   "cell_type": "code",
   "execution_count": 8,
   "metadata": {},
   "outputs": [],
   "source": [
    "import pandas as pd\n",
    "import os\n",
    "from bs4 import BeautifulSoup as BS\n",
    "import urllib.request \n",
    "import re"
   ]
  },
  {
   "cell_type": "code",
   "execution_count": 13,
   "metadata": {},
   "outputs": [],
   "source": [
    "# создаем папку, куда качать профили компаний\n",
    "folder_name = 'downloads'\n",
    "if not os.path.exists(folder_name):\n",
    "    os.makedirs(folder_name)"
   ]
  },
  {
   "cell_type": "code",
   "execution_count": 44,
   "metadata": {},
   "outputs": [],
   "source": [
    "# запрашиваем и сохраняем наши 50 000 файлов\n",
    "# берем только те компании, у которых есть информация о людях\n",
    "\n",
    "company_id = 1\n",
    "saved_count = 0\n",
    "while saved_count < 10:\n",
    "    url = \"http://www.orsr.sk/vypis.asp?lan=en&ID=\" + str(company_id) + \"&SID=2&P=0\"\n",
    "    file_path = os.path.join(folder_name, str(company_id)+\".html\")\n",
    "    urllib.request.urlretrieve(url, file_path)\n",
    "    with open (file_path) as file:\n",
    "        soup = BS(file, 'lxml')\n",
    "    has_management = bool(soup.find(string=re.compile(\"Management body\")))\n",
    "    has_member = bool(soup.find(string=re.compile(\"Contribution of each member\")))\n",
    "    has_partners = bool(soup.find(string=re.compile(\"Partners\")))\n",
    "    if(has_management or has_member or has_partners):\n",
    "        saved_count += 1\n",
    "    else:\n",
    "        os.remove(file_path)\n",
    "    company_id += 1"
   ]
  },
  {
   "cell_type": "code",
   "execution_count": 41,
   "metadata": {},
   "outputs": [
    {
     "data": {
      "text/plain": [
       "False"
      ]
     },
     "execution_count": 41,
     "metadata": {},
     "output_type": "execute_result"
    }
   ],
   "source": [
    "with open (\"1.html\") as file:\n",
    "    soup = BS(file, 'lxml')\n",
    "# extract title\n",
    "link1 = soup.find(string=re.compile(\"Management body\"))\n",
    "bool(link1)"
   ]
  },
  {
   "cell_type": "markdown",
   "metadata": {},
   "source": [
    "## TODO: \n",
    "- получить имена через find_next\n",
    "- красиво сохранить\n",
    "- сделать для 50000 компаний\n",
    "- переделать на обработку на лету без сохранения"
   ]
  },
  {
   "cell_type": "code",
   "execution_count": null,
   "metadata": {},
   "outputs": [],
   "source": []
  }
 ],
 "metadata": {
  "kernelspec": {
   "display_name": "Python 3",
   "language": "python",
   "name": "python3"
  },
  "language_info": {
   "codemirror_mode": {
    "name": "ipython",
    "version": 3
   },
   "file_extension": ".py",
   "mimetype": "text/x-python",
   "name": "python",
   "nbconvert_exporter": "python",
   "pygments_lexer": "ipython3",
   "version": "3.6.4"
  }
 },
 "nbformat": 4,
 "nbformat_minor": 2
}
