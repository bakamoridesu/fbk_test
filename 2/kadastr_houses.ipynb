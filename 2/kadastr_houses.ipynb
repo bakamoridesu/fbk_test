{
 "cells": [
  {
   "cell_type": "code",
   "execution_count": 84,
   "metadata": {},
   "outputs": [],
   "source": [
    "from selenium import webdriver\n",
    "from selenium.webdriver.common.action_chains import ActionChains\n",
    "from selenium.webdriver.common.touch_actions import TouchActions\n",
    "from selenium.webdriver.common.keys import Keys\n",
    "import pandas as pd\n",
    "import os\n",
    "from bs4 import BeautifulSoup as BS\n",
    "import time\n",
    "from IPython.display import clear_output"
   ]
  },
  {
   "cell_type": "code",
   "execution_count": 106,
   "metadata": {},
   "outputs": [
    {
     "name": "stdout",
     "output_type": "stream",
     "text": [
      "Pages:  49\n",
      "Pages:  7\n",
      "Pages:  27\n"
     ]
    }
   ],
   "source": [
    "coordinates = ['50:20:0010516', '50:20:0010512', '50:20:0010411']\n",
    "valid_houses = ['Жилой дом', 'Индивидуальный жилой дом', 'жилой дом', 'Жилое строение', '\"Индивидуальный жилой дом\"']\n",
    "houses = []\n",
    "for coordinate in coordinates:\n",
    "    coordinate = coordinate.split(':')\n",
    "\n",
    "    url = 'https://pkk5.rosreestr.ru/#x=4146628.302202864&y=7507512.107243985&z=14&' + \\\n",
    "    'text=%D0%92%20%D0%B3%D1%80%D0%B0%D0%BD%D0%B8%D1%86%D0%B0%D1%85%20%D0%BA%D0%B2%D0%B0%D1%80%D1%82%D0%B0%D0%BB%D0%B0%20'+ \\\n",
    "    str(int(coordinate[0])) + '%3A' + str(int(coordinate[1])) + '%3A' + str(int(coordinate[2])) +'&type=1&app=search&opened=1'\n",
    "\n",
    "    br = webdriver.Chrome('chromedriver.exe')\n",
    "\n",
    "    # получаем страницу с объектами\n",
    "    br.get(url)\n",
    "    actions = ActionChains(br)\n",
    "\n",
    "    # нужно выбрать, чтобы поиск был по ОКС\n",
    "    # щелкаем на выпадающий список\n",
    "    div = br.find_element_by_id(\"app-search-form\")\n",
    "    item = div.find_elements_by_class_name(\"input-group-btn\")[0]\n",
    "    actions.move_to_element(div)\n",
    "    actions.click(item)\n",
    "    actions.perform()\n",
    "\n",
    "    # Ждем, пока откроется, прогрузится\n",
    "    time.sleep(3)\n",
    "\n",
    "    # щелкаем на ОКС\n",
    "    actions = ActionChains(br)\n",
    "    el = br.find_element_by_class_name('dropdown-menu')\n",
    "    a = el.find_element_by_id('tag_5')\n",
    "    actions.click(a)\n",
    "    actions.perform()\n",
    "\n",
    "    # Ждем, пока откроется, прогрузится\n",
    "    time.sleep(5)\n",
    "\n",
    "    pages = 0\n",
    "\n",
    "    try:\n",
    "        # перебираем текущую страницу с домами\n",
    "        while True:\n",
    "            elements = br.find_elements_by_class_name('search-result-item')\n",
    "            len_elements = len(elements)\n",
    "            for i in range(len_elements):\n",
    "                \n",
    "                # нажали на дом\n",
    "                actions = ActionChains(br)\n",
    "                element = br.find_elements_by_class_name('search-result-item')[i]\n",
    "                full = element.find_element_by_tag_name(\"table\")\n",
    "                actions.click(full)\n",
    "                actions.perform()\n",
    "\n",
    "                time.sleep(3)\n",
    "                \n",
    "                # разбираем информацию по текущему дому\n",
    "                info = br.find_element_by_id(\"feature-oks-info\").text.split('\\n')\n",
    "                is_house = False\n",
    "                is_house_1 = False\n",
    "                is_house_2 = False\n",
    "                kad_num = ''\n",
    "                sq_str = ''\n",
    "                house_name = ''\n",
    "                sq_num = 0\n",
    "                for i in range(1, len(info)):\n",
    "                    if(info[i-1] == 'Тип:' and info[i] == 'Здание'):\n",
    "                        is_house_1 = True\n",
    "                    if(info[i-1] == 'Кад. номер:'):\n",
    "                        kad_num = info[i]\n",
    "                    if(info[i-1] == 'Общая площадь:'):\n",
    "                        sq_str = info[i]\n",
    "                    if(info[i-1] == 'Наименование:'):\n",
    "                        house_name = info[i]\n",
    "                        if(info[i] in valid_houses):\n",
    "                            is_house_2 = True\n",
    "                #clear_output(wait = True)\n",
    "                is_house = is_house_1 and is_house_2\n",
    "                if(is_house):\n",
    "                    try:\n",
    "                        sq_num = float(sq_str[:-len(' кв. м')].replace(',', '.').replace(' ',''))\n",
    "                    except:\n",
    "                        sq_num = 0\n",
    "                    if(sq_num > 1000):\n",
    "                        houses.append([kad_num, sq_num, house_name])\n",
    "                        #print('House added. Square = {0} m.'.format(int(sq_num)))\n",
    "                    #else:\n",
    "                        #print('House square < 1 000 m')\n",
    "                #else:\n",
    "                    #print(\"It's not house\")\n",
    "\n",
    "                # сворачиваем доп. информацию обратно, чтобы щелкнуть на следующий элемент\n",
    "                actions = ActionChains(br)\n",
    "                element = br.find_element_by_class_name('showFullFeature')\n",
    "                actions.move_to_element(element)\n",
    "                actions.click(element)\n",
    "                actions.perform()\n",
    "\n",
    "                time.sleep(1)\n",
    "            time.sleep(3)\n",
    "            pages += 1\n",
    "            \n",
    "            # щелкаем на следующую страницу\n",
    "            next_page = br.find_element_by_link_text('>')\n",
    "            actions = ActionChains(br)\n",
    "            actions.move_to_element(next_page)\n",
    "            actions.click(next_page)\n",
    "            actions.perform()\n",
    "            time.sleep(5)\n",
    "        print('Pages: ', pages)\n",
    "    except:\n",
    "        # если что-то случилось во время перехода по страницам по заданному кварталу(чтобы потом глянуть, сколько всего страниц)\n",
    "        print('Error! Pages: ', pages)\n",
    "        time.sleep(5)\n",
    "        continue\n"
   ]
  },
  {
   "cell_type": "code",
   "execution_count": 113,
   "metadata": {},
   "outputs": [],
   "source": [
    "# создаем папку для выгрузки csv\n",
    "output_folder = 'output'\n",
    "file_name = 'houses.csv'\n",
    "if not os.path.exists(output_folder):\n",
    "    os.makedirs(output_folder)"
   ]
  },
  {
   "cell_type": "code",
   "execution_count": 115,
   "metadata": {},
   "outputs": [],
   "source": [
    "houses = pd.DataFrame(houses)\n",
    "houses = houses[[0,1]]\n",
    "houses.to_csv(os.path.join(output_folder, file_name), header=False)"
   ]
  },
  {
   "cell_type": "code",
   "execution_count": 109,
   "metadata": {},
   "outputs": [],
   "source": []
  },
  {
   "cell_type": "code",
   "execution_count": null,
   "metadata": {},
   "outputs": [],
   "source": []
  },
  {
   "cell_type": "code",
   "execution_count": null,
   "metadata": {},
   "outputs": [],
   "source": []
  },
  {
   "cell_type": "code",
   "execution_count": null,
   "metadata": {},
   "outputs": [],
   "source": []
  },
  {
   "cell_type": "code",
   "execution_count": null,
   "metadata": {},
   "outputs": [],
   "source": []
  },
  {
   "cell_type": "code",
   "execution_count": null,
   "metadata": {},
   "outputs": [],
   "source": []
  },
  {
   "cell_type": "code",
   "execution_count": null,
   "metadata": {},
   "outputs": [],
   "source": []
  },
  {
   "cell_type": "code",
   "execution_count": null,
   "metadata": {},
   "outputs": [],
   "source": []
  },
  {
   "cell_type": "code",
   "execution_count": 94,
   "metadata": {},
   "outputs": [
    {
     "data": {
      "text/plain": [
       "Жилой дом                                                                                        27\n",
       "Индивидуальный жилой дом                                                                         20\n",
       "-                                                                                                14\n",
       "индивидуальный жилой дом                                                                          9\n",
       "жилой дом                                                                                         5\n",
       "Нежилое здание                                                                                    3\n",
       "Гараж                                                                                             1\n",
       "Жилое строение                                                                                    1\n",
       "\"Дом для проживания обучающихся и прихожан» на территории Комплекса зданий Синагоги «Жуковка»     1\n",
       "Ангар для хранения спецтехники                                                                    1\n",
       "Гостиница со спортивным залом. Комендатура                                                        1\n",
       "\"Индивидуальный жилой дом\"                                                                        1\n",
       "Дом приемов                                                                                       1\n",
       "\"Комплекс здания Синагоги \"Жуковка\"                                                               1\n",
       "Общественно-бытовой корпус, блок А                                                                1\n",
       "ФОК                                                                                               1\n",
       "Баня                                                                                              1\n",
       "Name: 2, dtype: int64"
      ]
     },
     "execution_count": 94,
     "metadata": {},
     "output_type": "execute_result"
    }
   ],
   "source": [
    "houses[2].value_counts()"
   ]
  },
  {
   "cell_type": "code",
   "execution_count": null,
   "metadata": {},
   "outputs": [],
   "source": [
    "html=br.page_source"
   ]
  }
 ],
 "metadata": {
  "kernelspec": {
   "display_name": "Python 3",
   "language": "python",
   "name": "python3"
  },
  "language_info": {
   "codemirror_mode": {
    "name": "ipython",
    "version": 3
   },
   "file_extension": ".py",
   "mimetype": "text/x-python",
   "name": "python",
   "nbconvert_exporter": "python",
   "pygments_lexer": "ipython3",
   "version": "3.6.4"
  }
 },
 "nbformat": 4,
 "nbformat_minor": 2
}
